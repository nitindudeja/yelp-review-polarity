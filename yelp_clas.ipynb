{
 "cells": [
  {
   "cell_type": "code",
   "execution_count": 1,
   "metadata": {},
   "outputs": [],
   "source": [
    "# get yelp data"
   ]
  },
  {
   "cell_type": "code",
   "execution_count": 2,
   "metadata": {},
   "outputs": [
    {
     "name": "stdout",
     "output_type": "stream",
     "text": [
      "--2019-03-08 22:00:00--  https://s3.amazonaws.com/fast-ai-nlp/yelp_review_polarity_csv.tgz\n",
      "Resolving s3.amazonaws.com (s3.amazonaws.com)... 52.216.111.61\n",
      "Connecting to s3.amazonaws.com (s3.amazonaws.com)|52.216.111.61|:443... connected.\n",
      "HTTP request sent, awaiting response... 200 OK\n",
      "Length: 166373201 (159M) [application/x-tar]\n",
      "Saving to: ‘yelp_review_polarity_csv.tgz’\n",
      "\n",
      "yelp_review_polarit 100%[===================>] 158.67M  44.9MB/s    in 4.0s    \n",
      "\n",
      "2019-03-08 22:00:04 (39.3 MB/s) - ‘yelp_review_polarity_csv.tgz’ saved [166373201/166373201]\n",
      "\n"
     ]
    }
   ],
   "source": [
    "!wget https://s3.amazonaws.com/fast-ai-nlp/yelp_review_polarity_csv.tgz"
   ]
  },
  {
   "cell_type": "code",
   "execution_count": 3,
   "metadata": {},
   "outputs": [],
   "source": [
    " # unzip tar"
   ]
  },
  {
   "cell_type": "code",
   "execution_count": 4,
   "metadata": {},
   "outputs": [
    {
     "name": "stdout",
     "output_type": "stream",
     "text": [
      "yelp_review_polarity_csv/\n",
      "yelp_review_polarity_csv/train.csv\n",
      "yelp_review_polarity_csv/readme.txt\n",
      "yelp_review_polarity_csv/test.csv\n"
     ]
    }
   ],
   "source": [
    " !tar -xvzf yelp_review_polarity_csv.tgz"
   ]
  },
  {
   "cell_type": "code",
   "execution_count": 5,
   "metadata": {},
   "outputs": [],
   "source": [
    "# import key functions and modules from fastai"
   ]
  },
  {
   "cell_type": "code",
   "execution_count": 1,
   "metadata": {},
   "outputs": [],
   "source": [
    "from fastai import * \n",
    "from fastai.text import * \n",
    "from fastai.core import *"
   ]
  },
  {
   "cell_type": "code",
   "execution_count": 2,
   "metadata": {},
   "outputs": [],
   "source": [
    " # set path to files"
   ]
  },
  {
   "cell_type": "code",
   "execution_count": 3,
   "metadata": {},
   "outputs": [],
   "source": [
    "path = Path('yelp_review_polarity_csv')\n",
    "bs=48"
   ]
  },
  {
   "cell_type": "code",
   "execution_count": 4,
   "metadata": {},
   "outputs": [],
   "source": [
    " # load training and view data"
   ]
  },
  {
   "cell_type": "code",
   "execution_count": 5,
   "metadata": {},
   "outputs": [
    {
     "data": {
      "text/html": [
       "<div>\n",
       "<style scoped>\n",
       "    .dataframe tbody tr th:only-of-type {\n",
       "        vertical-align: middle;\n",
       "    }\n",
       "\n",
       "    .dataframe tbody tr th {\n",
       "        vertical-align: top;\n",
       "    }\n",
       "\n",
       "    .dataframe thead th {\n",
       "        text-align: right;\n",
       "    }\n",
       "</style>\n",
       "<table border=\"1\" class=\"dataframe\">\n",
       "  <thead>\n",
       "    <tr style=\"text-align: right;\">\n",
       "      <th></th>\n",
       "      <th>0</th>\n",
       "      <th>1</th>\n",
       "    </tr>\n",
       "  </thead>\n",
       "  <tbody>\n",
       "    <tr>\n",
       "      <th>0</th>\n",
       "      <td>1</td>\n",
       "      <td>Unfortunately, the frustration of being Dr. Go...</td>\n",
       "    </tr>\n",
       "    <tr>\n",
       "      <th>1</th>\n",
       "      <td>2</td>\n",
       "      <td>Been going to Dr. Goldberg for over 10 years. ...</td>\n",
       "    </tr>\n",
       "    <tr>\n",
       "      <th>2</th>\n",
       "      <td>1</td>\n",
       "      <td>I don't know what Dr. Goldberg was like before...</td>\n",
       "    </tr>\n",
       "    <tr>\n",
       "      <th>3</th>\n",
       "      <td>1</td>\n",
       "      <td>I'm writing this review to give you a heads up...</td>\n",
       "    </tr>\n",
       "    <tr>\n",
       "      <th>4</th>\n",
       "      <td>2</td>\n",
       "      <td>All the food is great here. But the best thing...</td>\n",
       "    </tr>\n",
       "  </tbody>\n",
       "</table>\n",
       "</div>"
      ],
      "text/plain": [
       "   0                                                  1\n",
       "0  1  Unfortunately, the frustration of being Dr. Go...\n",
       "1  2  Been going to Dr. Goldberg for over 10 years. ...\n",
       "2  1  I don't know what Dr. Goldberg was like before...\n",
       "3  1  I'm writing this review to give you a heads up...\n",
       "4  2  All the food is great here. But the best thing..."
      ]
     },
     "execution_count": 5,
     "metadata": {},
     "output_type": "execute_result"
    }
   ],
   "source": [
    "train_csv = path/'train.csv'\n",
    "train = pd.read_csv(train_csv, header=None) \n",
    "train.head()"
   ]
  },
  {
   "cell_type": "code",
   "execution_count": 6,
   "metadata": {},
   "outputs": [
    {
     "data": {
      "text/plain": [
       "\"Unfortunately, the frustration of being Dr. Goldberg's patient is a repeat of the experience I've had with so many other doctors in NYC -- good doctor, terrible staff.  It seems that his staff simply never answers the phone.  It usually takes 2 hours of repeated calling to get an answer.  Who has time for that or wants to deal with it?  I have run into this problem with many other doctors and I just don't get it.  You have office workers, you have patients with medical needs, why isn't anyone answering the phone?  It's incomprehensible and not work the aggravation.  It's with regret that I feel that I have to give Dr. Goldberg 2 stars.\""
      ]
     },
     "execution_count": 6,
     "metadata": {},
     "output_type": "execute_result"
    }
   ],
   "source": [
    "train.iloc[0][1]"
   ]
  },
  {
   "cell_type": "code",
   "execution_count": 7,
   "metadata": {},
   "outputs": [
    {
     "data": {
      "text/plain": [
       "array([1, 2])"
      ]
     },
     "execution_count": 7,
     "metadata": {},
     "output_type": "execute_result"
    }
   ],
   "source": [
    "train[0].unique()"
   ]
  },
  {
   "cell_type": "code",
   "execution_count": 8,
   "metadata": {},
   "outputs": [],
   "source": [
    " # load and view test/validation data"
   ]
  },
  {
   "cell_type": "code",
   "execution_count": 9,
   "metadata": {},
   "outputs": [
    {
     "data": {
      "text/html": [
       "<div>\n",
       "<style scoped>\n",
       "    .dataframe tbody tr th:only-of-type {\n",
       "        vertical-align: middle;\n",
       "    }\n",
       "\n",
       "    .dataframe tbody tr th {\n",
       "        vertical-align: top;\n",
       "    }\n",
       "\n",
       "    .dataframe thead th {\n",
       "        text-align: right;\n",
       "    }\n",
       "</style>\n",
       "<table border=\"1\" class=\"dataframe\">\n",
       "  <thead>\n",
       "    <tr style=\"text-align: right;\">\n",
       "      <th></th>\n",
       "      <th>0</th>\n",
       "      <th>1</th>\n",
       "    </tr>\n",
       "  </thead>\n",
       "  <tbody>\n",
       "    <tr>\n",
       "      <th>0</th>\n",
       "      <td>2</td>\n",
       "      <td>Contrary to other reviews, I have zero complai...</td>\n",
       "    </tr>\n",
       "    <tr>\n",
       "      <th>1</th>\n",
       "      <td>1</td>\n",
       "      <td>Last summer I had an appointment to get new ti...</td>\n",
       "    </tr>\n",
       "    <tr>\n",
       "      <th>2</th>\n",
       "      <td>2</td>\n",
       "      <td>Friendly staff, same starbucks fair you get an...</td>\n",
       "    </tr>\n",
       "    <tr>\n",
       "      <th>3</th>\n",
       "      <td>1</td>\n",
       "      <td>The food is good. Unfortunately the service is...</td>\n",
       "    </tr>\n",
       "    <tr>\n",
       "      <th>4</th>\n",
       "      <td>2</td>\n",
       "      <td>Even when we didn't have a car Filene's Baseme...</td>\n",
       "    </tr>\n",
       "  </tbody>\n",
       "</table>\n",
       "</div>"
      ],
      "text/plain": [
       "   0                                                  1\n",
       "0  2  Contrary to other reviews, I have zero complai...\n",
       "1  1  Last summer I had an appointment to get new ti...\n",
       "2  2  Friendly staff, same starbucks fair you get an...\n",
       "3  1  The food is good. Unfortunately the service is...\n",
       "4  2  Even when we didn't have a car Filene's Baseme..."
      ]
     },
     "execution_count": 9,
     "metadata": {},
     "output_type": "execute_result"
    }
   ],
   "source": [
    "valid_csv = path/'test.csv'\n",
    "valid = pd.read_csv(valid_csv, header=None) \n",
    "valid.head()"
   ]
  },
  {
   "cell_type": "code",
   "execution_count": 10,
   "metadata": {},
   "outputs": [
    {
     "data": {
      "text/plain": [
       "array([2, 1])"
      ]
     },
     "execution_count": 10,
     "metadata": {},
     "output_type": "execute_result"
    }
   ],
   "source": [
    "valid[0].unique()"
   ]
  },
  {
   "cell_type": "code",
   "execution_count": 11,
   "metadata": {},
   "outputs": [],
   "source": [
    "data_lm = TextLMDataBunch.from_csv(path, 'test.csv')\n",
    "data_clas = TextClasDataBunch.from_csv(path, 'test.csv', vocab=data_lm.train_ds.vocab, bs=bs)"
   ]
  },
  {
   "cell_type": "code",
   "execution_count": 12,
   "metadata": {},
   "outputs": [
    {
     "data": {
      "text/html": [
       "<table border=\"1\" class=\"dataframe\">\n",
       "  <thead>\n",
       "    <tr style=\"text-align: right;\">\n",
       "      <th>idx</th>\n",
       "      <th>text</th>\n",
       "    </tr>\n",
       "  </thead>\n",
       "  <tbody>\n",
       "    <tr>\n",
       "      <td>0</td>\n",
       "      <td>for our drinks , xxup bj had a xxmaj bloody xxmaj mary and i had a xxmaj bellini . xxmaj we were served a basket of xxunk bread and mini muffins . xxmaj for appetizers , we got a xxmaj three xxmaj sisters xxmaj farms xxunk greens and smoked salmon and truffled potato cake . xxmaj very good . xxmaj for entrees we selected a jumbo lump crab &amp; tomato</td>\n",
       "    </tr>\n",
       "    <tr>\n",
       "      <td>1</td>\n",
       "      <td>selection and the self wash is top notch . xxmaj they use premium dog shampoos and conditioners , the tubs are huge and easy for our pooches to get into , and always so clean . i have n't had a chance to use their professional groomer , but all the dogs i have seen leave there have looked cute and happy . xxmaj so glad a self wash is</td>\n",
       "    </tr>\n",
       "    <tr>\n",
       "      <td>2</td>\n",
       "      <td>very much like cheap patio furniture ( it is a party pool during the day after all ) , and a table that felt like a cheap patio table . xxmaj there was one xxunk cushion thing offered as well . xxmaj our table for 8 really only sat 4 , but maybe this is normal at clubs , not sure . i know the point is n't to sit</td>\n",
       "    </tr>\n",
       "    <tr>\n",
       "      <td>3</td>\n",
       "      <td>xxmaj fremont while waiting for our food . \" xxunk prohibition ends , xxmaj fremont stunned to discover whiskey had been illegal \" \\n \\n  xxmaj for my breakfast i went with eggs xxmaj benedict which was on point ! xxmaj perfect hollandaise sauce ! \\n \\n  xxmaj overall menu is very basic but very good . xxmaj wait staff helpful and fun . xxmaj ca nt wait</td>\n",
       "    </tr>\n",
       "    <tr>\n",
       "      <td>4</td>\n",
       "      <td>tiny stage and a bunch of fake xxunk sofas some of which actually had tears in them . xxmaj the vodka / club soda was ridiculously watered down both times my friend ordered it and they were over $ 10 each . xxmaj we saw 4 girls dance on stage and i do nt think i saw one actual dance move . \\n \\n  i saw two guys getting</td>\n",
       "    </tr>\n",
       "  </tbody>\n",
       "</table>"
      ],
      "text/plain": [
       "<IPython.core.display.HTML object>"
      ]
     },
     "metadata": {},
     "output_type": "display_data"
    }
   ],
   "source": [
    "data_lm.show_batch()"
   ]
  },
  {
   "cell_type": "code",
   "execution_count": 13,
   "metadata": {},
   "outputs": [
    {
     "data": {
      "text/html": [
       "<table border=\"1\" class=\"dataframe\">\n",
       "  <thead>\n",
       "    <tr style=\"text-align: right;\">\n",
       "      <th>text</th>\n",
       "      <th>target</th>\n",
       "    </tr>\n",
       "  </thead>\n",
       "  <tbody>\n",
       "    <tr>\n",
       "      <td>xxbos xxmaj the mess pretty much started as we ( the xxup gf , e - xxmaj xxunk , and xxmaj funky xxmaj cold xxmaj medina and i ) opened the door . xxmaj there was an older woman behind the counter , just by looking at her , you could tell she was have a bad time . xxmaj there was another group of guys who were saying that</td>\n",
       "      <td>1</td>\n",
       "    </tr>\n",
       "    <tr>\n",
       "      <td>xxbos xxmaj even the best food and atmosphere can taste horrendous after lackluster service and poor response . xxmaj until the current manager changes the way he handles complaints , i give this place only five more years . \\n \\n  xxmaj the restaurant was maybe 3 / xxunk full , so i was expecting faster service than the times i have been here when it was jam -</td>\n",
       "      <td>1</td>\n",
       "    </tr>\n",
       "    <tr>\n",
       "      <td>xxbos xxmaj when you walk through the door you 're greeted with an amazing smell ( reminded me of when my dad would cook meat in our smoker with apple wood chips when we were kids ) . xxmaj second was how great the restaurant looked , it was clean and inviting . xxmaj the bartender smiled and waved at us like we were old friends and told us to</td>\n",
       "      <td>1</td>\n",
       "    </tr>\n",
       "    <tr>\n",
       "      <td>xxbos i had the distinct pleasure of making the acquaintance of the xxmaj king of our fair city earlier this week . xxmaj at his xxunk , we met up at xxmaj the xxmaj skeptical xxmaj chymist . \\n \\n  xxmaj at first glance , i was nervous that the venue would be incredibly small . xxmaj it 's tucked away in the corner of a shopping center ,</td>\n",
       "      <td>2</td>\n",
       "    </tr>\n",
       "    <tr>\n",
       "      <td>xxbos i 'm only giving this motel a 4 star instead of 5 because i ca n't imagine giving any motel 5 stars . \\n \\n  i have stayed at this motel 4 times now . i stay at this motel because it is close to my favorite mega resort corner , but without the price tag of those mega resorts . xxmaj from this motel i can easily</td>\n",
       "      <td>2</td>\n",
       "    </tr>\n",
       "  </tbody>\n",
       "</table>"
      ],
      "text/plain": [
       "<IPython.core.display.HTML object>"
      ]
     },
     "metadata": {},
     "output_type": "display_data"
    }
   ],
   "source": [
    "data_clas.show_batch()"
   ]
  },
  {
   "cell_type": "code",
   "execution_count": 14,
   "metadata": {},
   "outputs": [
    {
     "data": {
      "text/plain": [
       "['xxunk',\n",
       " 'xxpad',\n",
       " 'xxbos',\n",
       " 'xxfld',\n",
       " 'xxmaj',\n",
       " 'xxup',\n",
       " 'xxrep',\n",
       " 'xxwrep',\n",
       " '.',\n",
       " 'the']"
      ]
     },
     "execution_count": 14,
     "metadata": {},
     "output_type": "execute_result"
    }
   ],
   "source": [
    "data_clas.vocab.itos[:10]"
   ]
  },
  {
   "cell_type": "code",
   "execution_count": 15,
   "metadata": {},
   "outputs": [],
   "source": [
    "model_path = path/'models'\n",
    "model_path.mkdir(exist_ok=True)\n",
    "url = 'http://files.fast.ai/models/wt103_v1/' \n",
    "download_url(f'{url}lstm_wt103.pth', model_path/'lstm_wt103.pth') \n",
    "download_url(f'{url}itos_wt103.pkl', model_path/'itos_wt103.pkl')"
   ]
  },
  {
   "cell_type": "code",
   "execution_count": 16,
   "metadata": {},
   "outputs": [],
   "source": [
    " # initialize lang model using pre-trained lang models"
   ]
  },
  {
   "cell_type": "code",
   "execution_count": 17,
   "metadata": {},
   "outputs": [],
   "source": [
    "learn = language_model_learner(data_lm, AWD_LSTM, pretrained_fnames=['lstm_wt103', 'itos_wt103'], drop_mult=0.5)"
   ]
  },
  {
   "cell_type": "code",
   "execution_count": 18,
   "metadata": {},
   "outputs": [
    {
     "data": {
      "text/plain": [
       "\"This was such a great  success and a success . here in europe , new york city held a record on a official website of the national museum that took its name from the state of new york , but it was still a long service . in some people 's opinion , the city\""
      ]
     },
     "execution_count": 18,
     "metadata": {},
     "output_type": "execute_result"
    }
   ],
   "source": [
    "learn.predict('This was such a great ', 50, temperature=1.1, min_p=0.001)"
   ]
  },
  {
   "cell_type": "code",
   "execution_count": 19,
   "metadata": {},
   "outputs": [
    {
     "data": {
      "text/html": [],
      "text/plain": [
       "<IPython.core.display.HTML object>"
      ]
     },
     "metadata": {},
     "output_type": "display_data"
    },
    {
     "name": "stdout",
     "output_type": "stream",
     "text": [
      "LR Finder is complete, type {learner_name}.recorder.plot() to see the graph.\n"
     ]
    }
   ],
   "source": [
    "learn.lr_find()"
   ]
  },
  {
   "cell_type": "code",
   "execution_count": 20,
   "metadata": {},
   "outputs": [
    {
     "data": {
      "image/png": "[encoded data removed]",
      "text/plain": [
       "<Figure size 432x288 with 1 Axes>"
      ]
     },
     "metadata": {
      "needs_background": "light"
     },
     "output_type": "display_data"
    }
   ],
   "source": [
    "learn.recorder.plot()"
   ]
  },
  {
   "cell_type": "code",
   "execution_count": 21,
   "metadata": {},
   "outputs": [
    {
     "data": {
      "text/html": [
       "Total time: 05:52 <p><table border=\"1\" class=\"dataframe\">\n",
       "  <thead>\n",
       "    <tr style=\"text-align: left;\">\n",
       "      <th>epoch</th>\n",
       "      <th>train_loss</th>\n",
       "      <th>valid_loss</th>\n",
       "      <th>accuracy</th>\n",
       "      <th>time</th>\n",
       "    </tr>\n",
       "  </thead>\n",
       "  <tbody>\n",
       "    <tr>\n",
       "      <td>1</td>\n",
       "      <td>4.359298</td>\n",
       "      <td>4.685558</td>\n",
       "      <td>0.171429</td>\n",
       "      <td>05:52</td>\n",
       "    </tr>\n",
       "  </tbody>\n",
       "</table>"
      ],
      "text/plain": [
       "<IPython.core.display.HTML object>"
      ]
     },
     "metadata": {},
     "output_type": "display_data"
    }
   ],
   "source": [
    "learn.fit_one_cycle(1, 1e-2)"
   ]
  },
  {
   "cell_type": "code",
   "execution_count": 22,
   "metadata": {},
   "outputs": [
    {
     "data": {
      "text/html": [
       "Total time: 50:05 <p><table border=\"1\" class=\"dataframe\">\n",
       "  <thead>\n",
       "    <tr style=\"text-align: left;\">\n",
       "      <th>epoch</th>\n",
       "      <th>train_loss</th>\n",
       "      <th>valid_loss</th>\n",
       "      <th>accuracy</th>\n",
       "      <th>time</th>\n",
       "    </tr>\n",
       "  </thead>\n",
       "  <tbody>\n",
       "    <tr>\n",
       "      <td>1</td>\n",
       "      <td>4.074266</td>\n",
       "      <td>4.373779</td>\n",
       "      <td>0.242857</td>\n",
       "      <td>07:08</td>\n",
       "    </tr>\n",
       "    <tr>\n",
       "      <td>2</td>\n",
       "      <td>3.926634</td>\n",
       "      <td>4.238363</td>\n",
       "      <td>0.285714</td>\n",
       "      <td>07:09</td>\n",
       "    </tr>\n",
       "    <tr>\n",
       "      <td>3</td>\n",
       "      <td>3.833415</td>\n",
       "      <td>4.135525</td>\n",
       "      <td>0.285714</td>\n",
       "      <td>07:09</td>\n",
       "    </tr>\n",
       "    <tr>\n",
       "      <td>4</td>\n",
       "      <td>3.738532</td>\n",
       "      <td>4.152570</td>\n",
       "      <td>0.271429</td>\n",
       "      <td>07:09</td>\n",
       "    </tr>\n",
       "    <tr>\n",
       "      <td>5</td>\n",
       "      <td>3.652145</td>\n",
       "      <td>4.091301</td>\n",
       "      <td>0.285714</td>\n",
       "      <td>07:10</td>\n",
       "    </tr>\n",
       "    <tr>\n",
       "      <td>6</td>\n",
       "      <td>3.584393</td>\n",
       "      <td>4.114072</td>\n",
       "      <td>0.285714</td>\n",
       "      <td>07:09</td>\n",
       "    </tr>\n",
       "    <tr>\n",
       "      <td>7</td>\n",
       "      <td>3.565036</td>\n",
       "      <td>4.122468</td>\n",
       "      <td>0.285714</td>\n",
       "      <td>07:09</td>\n",
       "    </tr>\n",
       "  </tbody>\n",
       "</table>"
      ],
      "text/plain": [
       "<IPython.core.display.HTML object>"
      ]
     },
     "metadata": {},
     "output_type": "display_data"
    }
   ],
   "source": [
    "learn.unfreeze()\n",
    "learn.fit_one_cycle(7, 1e-3,moms=(0.8,0.7))"
   ]
  },
  {
   "cell_type": "code",
   "execution_count": 23,
   "metadata": {},
   "outputs": [],
   "source": [
    "# save fine-tuned model"
   ]
  },
  {
   "cell_type": "code",
   "execution_count": 24,
   "metadata": {},
   "outputs": [],
   "source": [
    "learn.save_encoder('ft_enc')"
   ]
  },
  {
   "cell_type": "code",
   "execution_count": 25,
   "metadata": {},
   "outputs": [
    {
     "data": {
      "text/plain": [
       "\"It was nice  to have a great food and time experience while looking for authentic Mexican food - it 's small and quiet ! The Carne Asada enchiladas are HIGHLY recommended and my wife had the beef tacos . i had the Mexican burrito and i 'm\""
      ]
     },
     "execution_count": 25,
     "metadata": {},
     "output_type": "execute_result"
    }
   ],
   "source": [
    "learn.predict('It was nice ', 50, temperature=1.1, min_p=0.001)"
   ]
  },
  {
   "cell_type": "code",
   "execution_count": 26,
   "metadata": {},
   "outputs": [
    {
     "data": {
      "text/plain": [
       "'We are never going  to visit this restaurant again . Last night my mother and her boyfriend came here to grab a bottle of water instead of a'"
      ]
     },
     "execution_count": 26,
     "metadata": {},
     "output_type": "execute_result"
    }
   ],
   "source": [
    "learn.predict('We are never going ', 25, temperature=1.1, min_p=0.001)"
   ]
  },
  {
   "cell_type": "code",
   "execution_count": 27,
   "metadata": {},
   "outputs": [],
   "source": [
    "learn = text_classifier_learner(data_clas, AWD_LSTM, drop_mult=0.5)"
   ]
  },
  {
   "cell_type": "code",
   "execution_count": 28,
   "metadata": {},
   "outputs": [
    {
     "data": {
      "text/html": [
       "Total time: 03:38 <p><table border=\"1\" class=\"dataframe\">\n",
       "  <thead>\n",
       "    <tr style=\"text-align: left;\">\n",
       "      <th>epoch</th>\n",
       "      <th>train_loss</th>\n",
       "      <th>valid_loss</th>\n",
       "      <th>accuracy</th>\n",
       "      <th>time</th>\n",
       "    </tr>\n",
       "  </thead>\n",
       "  <tbody>\n",
       "    <tr>\n",
       "      <td>1</td>\n",
       "      <td>0.321496</td>\n",
       "      <td>0.202029</td>\n",
       "      <td>0.920789</td>\n",
       "      <td>03:38</td>\n",
       "    </tr>\n",
       "  </tbody>\n",
       "</table>"
      ],
      "text/plain": [
       "<IPython.core.display.HTML object>"
      ]
     },
     "metadata": {},
     "output_type": "display_data"
    }
   ],
   "source": [
    "learn.load_encoder('ft_enc')\n",
    "learn.fit_one_cycle(1, 1e-2)"
   ]
  },
  {
   "cell_type": "code",
   "execution_count": 29,
   "metadata": {},
   "outputs": [
    {
     "data": {
      "text/html": [
       "Total time: 04:47 <p><table border=\"1\" class=\"dataframe\">\n",
       "  <thead>\n",
       "    <tr style=\"text-align: left;\">\n",
       "      <th>epoch</th>\n",
       "      <th>train_loss</th>\n",
       "      <th>valid_loss</th>\n",
       "      <th>accuracy</th>\n",
       "      <th>time</th>\n",
       "    </tr>\n",
       "  </thead>\n",
       "  <tbody>\n",
       "    <tr>\n",
       "      <td>1</td>\n",
       "      <td>0.245902</td>\n",
       "      <td>0.151680</td>\n",
       "      <td>0.942368</td>\n",
       "      <td>04:47</td>\n",
       "    </tr>\n",
       "  </tbody>\n",
       "</table>"
      ],
      "text/plain": [
       "<IPython.core.display.HTML object>"
      ]
     },
     "metadata": {},
     "output_type": "display_data"
    }
   ],
   "source": [
    "learn.freeze_to(-2)\n",
    "learn.fit_one_cycle(1, slice(1e-2/(2.6**4),1e-2), moms=(0.8,0.7))"
   ]
  },
  {
   "cell_type": "code",
   "execution_count": 30,
   "metadata": {},
   "outputs": [],
   "source": [
    "learn.save('second')\n"
   ]
  },
  {
   "cell_type": "code",
   "execution_count": 31,
   "metadata": {},
   "outputs": [
    {
     "data": {
      "text/plain": [
       "RNNLearner(data=TextClasDataBunch;\n",
       "\n",
       "Train: LabelList (30399 items)\n",
       "x: TextList\n",
       "xxbos xxmaj xxunk xxmaj thai is probably the best place to dine in xxmaj anthem in regards to quality of food . xxmaj they have an extensive menu with most of the traditional xxmaj thai dishes along with \n",
       " \n",
       "  xxmaj here are some recommendations : \n",
       "  xxmaj for apps , veggie rolls , crab wontons are ok , but go with the xxmaj satay ~ slices of chicken marinated in curry and grilled . xxmaj it comes with peanut sauce and cucumber dip which is not actually dip , it 's yummy pickled cucumber slices in this ridiculous somewhat sweet sauce that may entice you lick the bowl and ask for more ... \n",
       " \n",
       "  xxmaj soups ; their xxmaj xxunk xxmaj num ( wonton ) soup is good however i suggest going for the xxmaj tom xxmaj ka xxmaj gai which is a hot / sour soup with chicken , lemon grass , mushrooms , something else not sure what is but taste good in a coconut milk broth served in a \" flaming soup xxunk \" . \n",
       " \n",
       "  xxmaj dinner / xxmaj lunch ; xxmaj pad xxmaj thai , xxmaj kao xxmaj pad xxmaj kari , xxmaj panang xxmaj curry are all good and you would not be disappointed but i recommend either xxmaj pad xxmaj xxunk xxmaj pa xxmaj curry or xxmaj xxunk xxmaj xxunk xxmaj prik xxmaj thai ~ shrimp dish with garlic , snow peas , onions and broccoli . xxmaj they also have a few nontraditional xxmaj thai dishes like xxmaj orange chicken and xxmaj beef with xxmaj broccoli in case your with someone that is not a fan of xxmaj thai cuisine . \n",
       " \n",
       "  xxmaj heat levels are somewhat conservative so you may need to order a little hotter than at other locations . xxmaj service is friendly and quick . xxmaj their prices are very reasonable and their portions are on the larger size , so you can share with someone if you choose to .,xxbos xxmaj we had a lot of mixed feelings about this place . xxmaj the price / quality of their signature steak was great ... we just left feeling very underwhelmed by the quality of the service . \n",
       " \n",
       "  xxmaj we originally booked a reservation here because it was around the corner from the xxmaj zumanity show that we had tickets for . xxmaj the hostess we originally talked to was very polite and informative letting us know that a 9:30 pm booking was probably the best time since our show was for 7:30 . xxmaj at this point , we had high hopes for this place . \n",
       " \n",
       "  xxmaj the day of our booking we called to confirm our reservation and the hostess hung up on my bf mid sentence saying , \" xxmaj no we do n't have a booking under that name . \" xxmaj confused , i called back , and they eventually found our name . i wanted to make sure i received the check since it was my bf 's b - day weekend . xxmaj she said \" xxmaj ok \" then hung up without asking me which of the 4 people under our reservation that i was . \n",
       " \n",
       "  xxmaj our server was ok ... but obviously did n't get the message about the check . ( xxmaj surprise xxmaj surprise ) xxmaj when we asked for our check she threw it down next to my bf . xxmaj of course if he sees the check he 's going to try to pay for it ! ! ! xxmaj it was his birthday , this is what i was trying to avoid !,xxbos xxmaj we came for the oyster bar and the long line was a drag and the strong smell of cigarettes was making me nauseous so we decided to go into the neighboring restaurant \" xxmaj the xxmaj broiler \" . i assumed the casino might get its sea food shipment from the same place since both places are feet apart . xxmaj boy was i wrong . \n",
       " \n",
       "  xxmaj two people in my party got sick from the oysters . xxmaj the xxmaj clam xxmaj chowder was so gritty it was inedible , my hamburger was dry and smelled old . xxmaj to top it off a bill for two people is about $ 70 you can go to a really nice restaurant for $ 15 - 20 a plate in xxmaj vegas . \n",
       " \n",
       "  xxup avoid xxup this xxup place . xxup it xxup is a xxup waste xxup of xxup money xxup and xxup you xxup might xxup get xxup sick .,xxbos i 've been here a few times . xxmaj once with my family , once with a friend , once alone and once with my sister . xxmaj every time i feel like i spent a bit too much . xxmaj also , i do n't think i 've ever left there feeling happy either . xxmaj it 's bright and noisy . xxmaj but then again , it is more of a family place . \n",
       " \n",
       "  xxmaj they do have their non - negotiable menu . xxmaj it 's simple , it 's pretty and everything sounds good . xxmaj they have their set up assembly line style . xxmaj ordering is easy . xxmaj if you have any troubles , the employees in line will throw out a suggestion or two . i 've tried the xxmaj crab xxmaj avocado xxmaj melt , the xxmaj turkey xxmaj bacon xxmaj avocado ( i think you can tell that i like avocado ) and the xxmaj asian xxup bbq xxmaj pork . xxmaj the xxmaj crab and the xxmaj turkey were pretty good ( they 're paninis ) but the xxmaj asian xxup bbq xxmaj pork is sticky and kind of a pain to eat . xxmaj it is good , but i 'm better off buying a xxmaj bahn xxmaj mi . xxmaj bahn xxmaj mis are usually cheaper too . i have n't tried their salads . xxmaj they did n't seem interesting enough for me . xxmaj their soups are never hot , they 're always this awkward warm temperature . i 'm not sure if they could microwave them , but if i 'm paying $ 7.99 for soup and a sandwich , i 'd expect the food to be adequate . i 've tried the xxmaj lobster xxmaj bisque which is n't bad . i 've also had their xxmaj swiss xxmaj onion xxmaj soup that 's a temporary item . xxmaj it was good . xxmaj another thing is that their soup station was messy . i saw the assembly food line workers chatting amongst themselves , so i 'm pretty sure they had time to at least wipe it down . \n",
       " \n",
       "  xxmaj with the $ 7.99 combo , it comes with a slice of cold bread loaf and a chocolate dipped strawberry . xxmaj sexy , huh ? \n",
       "  xxmaj yeah , i guess it could be sexy ... xxmaj unless you think fruit bugs and leaves are sexy . ( xxmaj not judging if you are ! ) \n",
       "  xxmaj the first issue i had with the strawberries is that there were leaves xxup melted xxup in xxup with xxup the xxup chocolate . xxmaj honestly , how could you miss that ? xxmaj how can you expect your customers to xxup not notice it ? xxmaj luckily that time , i brought it up and they switched it out . xxmaj easy . xxmaj done . i did n't even have to ask them to switch it out . \n",
       "  xxmaj tonight was another story . xxmaj after my sister ate her strawberries , she started freaking out because a bug that crawled out of the bag . xxmaj it was a tiny bug . xxmaj like the kinds you find with the berries you did n't wash yet . xxmaj first , i brought the bag to the cashier . i asked if they wash the berries or if they even inspect them or whatever . xxmaj she 's like , \" xxmaj yeah , we wash them . xxmaj sorry about that . \" in the most \" omg , it 's late and i just want to get out of here . xxmaj it 's not my fault you have issues . \" attitude ever . xxmaj did n't offer if i want to talk to the manager or anything . xxmaj that was a problem for me . i 'm like , \" okay , thanks i guess . \" i waited for a bit and waited until a busser came by . i told her what happened and she brought out xxmaj joe , the manager . xxmaj joe explained to me that it 's corporate policy that the berries come pre - washed . xxmaj he said the chocolate would n't stick to it otherwise . xxmaj he then said they would keep an extra eye out when they inspect it in the morning . xxmaj he offered another dessert or another strawberry , which was nice . xxmaj we did n't take it , we were a bit grossed out by the bug . \n",
       " \n",
       "  xxmaj yeah , i can say ( with a lot of confidence ) that we wo n't be returning there . xxmaj ever . xxmaj not even if you paid for my meal . xxmaj if i wanted soup or anything like what they have , xxmaj panera xxmaj bread is down the street and xxmaj sweet xxmaj tomatoes is n't far from there either . xxmaj if you do go , just watch out for bugs !,xxbos i usually go to xxmaj francisco 's during my late night food xxunk . i have to say i really love their steak sopes ! xxmaj the sopes come topped with tomato , lettuce , sour cream , and cheese . xxmaj they are like little boats of fried goodness topped with juicy , tender meat and toppings . xxmaj make sure to ask for their spicy homemade salsa that they have in squirt bottles . xxmaj it has a real nice kick to it . xxmaj everything else on the menu is pretty decent . xxmaj my favorites are mostly the ala carte items : tostadas , tacos , and sopes . i do n't really care for the rice and beans that most of the entrees come with . xxmaj if you do stop in for a weekend late night snack , then be ready to expect a busy restaurant !\n",
       "y: CategoryList\n",
       "2,1,1,1,2\n",
       "Path: yelp_review_polarity_csv;\n",
       "\n",
       "Valid: LabelList (7600 items)\n",
       "x: TextList\n",
       "xxbos xxmaj whoa . xxmaj time has passed and this place has definitely not gotten any better . xxmaj honestly , it has definitely gotten more ghetto . i had an event that required me to stay at this hotel . xxmaj so to put it bluntly , it was not my first choice to stay here . \n",
       " \n",
       "  xxmaj so let 's start out with the good things ... \n",
       " \n",
       "  xxmaj the price would have to be the best thing it has to offer . $ 30 / night . xxmaj secondly , the bed was pretty good we had one of the upgraded rooms in the xxmaj north xxmaj tower . xxmaj the gym was decent . xxmaj we got the resort package which was $ 40 a day . xxmaj it seemed like it was worth it if you like unlimited beer / wine / cookies . xxmaj it also included the gym / spa . xxmaj they had a coffee machine which was broken and only had drip . xxmaj so no cappucino / lattes . xxmaj if you have an event at the convention center , this hotel is extremely convenient . i suppose this hotel would be good for you if you are one of those people that are always late . xxmaj the monorail is next to the hotel . xxmaj and that 's about it for me with the good things ... \n",
       " \n",
       "  xxmaj now to my things that i did n't like . xxmaj when you have ghetto prices you get ghetto people . xxmaj go figure . xxmaj the pool was filled with kids . i am not a kid . \n",
       "  xxmaj you know , its the details that make or break these hotels . xxmaj the plasma xxup tv was nice . xxup but xxup no xxup hdtv xxrep 4 ? xxup fuck . xxup furthermore xxup these xxup assholes xxup block xxup the xxup input xxup in xxup the xxup tv ! ! xxmaj so , you ca n't connect your ipod / media player to watch your stuff . xxup fuck . i hated that the default setting on the xxup tv stretched the xxunk to 16:9 weirdly . xxmaj these assholes have the balls to charge $ 13 per day per laptop for xxmaj internet . xxup wtf ? xxmaj thank xxup god i have my wifi xxunk . \n",
       " \n",
       "  xxmaj the lighting in the room was dim because they are stingy with the lighting . xxmaj they have those compact florescent light bulbs . xxmaj they are sooo ghetto that the light bulbs are n't even covered to look normal bulbs . xxmaj the a / c in the room was obscenely loud . i called them to fix it and the guy shows up an hour later . i forgot that i called him ! i hated the shower because i was taller than the shower head and i am xxunk \" . i further xxunk the shower because it was dark in the shower because these tight asses did n't put a light in the shower area . \n",
       " \n",
       "  xxmaj they give you a bunch of coupons , but with restrictions . i got excited when i first got a drink coupon but it had restrictions : no xxmaj grey goose , no name brand drinks . xxmaj jeez . xxmaj it was also good for beer / wine . xxmaj this place is in need of some major makeover . xxmaj the xxmaj benihana looks like when they first built the hotel 30 + years ago . xxmaj seriously though , if you have to go to xxmaj las xxmaj vegas on the cheap , you should wait longer save some more money get yourself a nicer hotel elsewhere .,xxbos xxmaj this is my second visit and it pretty much put a nail in the coffin . xxmaj the first time we came in for a late breakfast and the food was mediocre but we chalked it up to being on the tail end of breakfast service . xxmaj however , the second chance did not prove redeeming . i ordered the xxmaj cali benedict and the poached eggs were beyond runny and the dish was bland . xxmaj the potatoes are greasy and hard . xxmaj hubby 's omelet was greasy and runny , as well . xxmaj have not had lunch or dinner but would be reluctant to come back based on both poor breakfasts . xxmaj there 's other amazing places for breakfast in the area .,xxbos xxmaj first off , older casino on xxmaj fremont xxmaj street , but nice environment and incredible view of xxmaj vegas from the top of the building ( 24th floor , i believe ) . 16 oz prime rib was larger than that , incredibly done , xxup loved it !,xxbos i did n't find it that bad , but it certainly was n't good . xxmaj it 's a shame this place does n't live up , because it 's a neat - looking little diner in a great location . xxmaj service was typical xxmaj montreal aloof , food was not worth the time . xxmaj do yourself a favor and go to xxmaj cosmos down the street , or anywhere else at all really .,xxbos xxmaj the guacamole is definitely packaged - tastes exactly like xxmaj wholly xxmaj guacamole brand ... xxmaj not impressed . xxmaj service was n't much better . xxmaj food ? xxmaj very below average ... xxmaj after many years of using yelp , this is actually the first yelp review i have ever written . xxmaj that 's how strongly i disagree with the current rating that this place has . ( xxmaj and compared to what my friend and boyfriend had to say about the entire experience , i 'm being pretty nice . )\n",
       "y: CategoryList\n",
       "1,1,2,1,1\n",
       "Path: yelp_review_polarity_csv;\n",
       "\n",
       "Test: None, model=SequentialRNN(\n",
       "  (0): MultiBatchEncoder(\n",
       "    (module): AWD_LSTM(\n",
       "      (encoder): Embedding(30444, 400, padding_idx=1)\n",
       "      (encoder_dp): EmbeddingDropout(\n",
       "        (emb): Embedding(30444, 400, padding_idx=1)\n",
       "      )\n",
       "      (rnns): ModuleList(\n",
       "        (0): WeightDropout(\n",
       "          (module): LSTM(400, 1150, batch_first=True)\n",
       "        )\n",
       "        (1): WeightDropout(\n",
       "          (module): LSTM(1150, 1150, batch_first=True)\n",
       "        )\n",
       "        (2): WeightDropout(\n",
       "          (module): LSTM(1150, 400, batch_first=True)\n",
       "        )\n",
       "      )\n",
       "      (input_dp): RNNDropout()\n",
       "      (hidden_dps): ModuleList(\n",
       "        (0): RNNDropout()\n",
       "        (1): RNNDropout()\n",
       "        (2): RNNDropout()\n",
       "      )\n",
       "    )\n",
       "  )\n",
       "  (1): PoolingLinearClassifier(\n",
       "    (layers): Sequential(\n",
       "      (0): BatchNorm1d(1200, eps=1e-05, momentum=0.1, affine=True, track_running_stats=True)\n",
       "      (1): Dropout(p=0.2)\n",
       "      (2): Linear(in_features=1200, out_features=50, bias=True)\n",
       "      (3): ReLU(inplace)\n",
       "      (4): BatchNorm1d(50, eps=1e-05, momentum=0.1, affine=True, track_running_stats=True)\n",
       "      (5): Dropout(p=0.1)\n",
       "      (6): Linear(in_features=50, out_features=2, bias=True)\n",
       "    )\n",
       "  )\n",
       "), opt_func=functools.partial(<class 'torch.optim.adam.Adam'>, betas=(0.9, 0.99)), loss_func=FlattenedLoss of CrossEntropyLoss(), metrics=[<function accuracy at 0x7f63c01ec0d0>], true_wd=True, bn_wd=True, wd=0.01, train_bn=True, path=PosixPath('yelp_review_polarity_csv'), model_dir='models', callback_fns=[functools.partial(<class 'fastai.basic_train.Recorder'>, add_time=True)], callbacks=[RNNTrainer\n",
       "learn: RNNLearner(data=TextClasDataBunch;\n",
       "\n",
       "Train: LabelList (30399 items)\n",
       "x: TextList\n",
       "xxbos xxmaj xxunk xxmaj thai is probably the best place to dine in xxmaj anthem in regards to quality of food . xxmaj they have an extensive menu with most of the traditional xxmaj thai dishes along with \n",
       " \n",
       "  xxmaj here are some recommendations : \n",
       "  xxmaj for apps , veggie rolls , crab wontons are ok , but go with the xxmaj satay ~ slices of chicken marinated in curry and grilled . xxmaj it comes with peanut sauce and cucumber dip which is not actually dip , it 's yummy pickled cucumber slices in this ridiculous somewhat sweet sauce that may entice you lick the bowl and ask for more ... \n",
       " \n",
       "  xxmaj soups ; their xxmaj xxunk xxmaj num ( wonton ) soup is good however i suggest going for the xxmaj tom xxmaj ka xxmaj gai which is a hot / sour soup with chicken , lemon grass , mushrooms , something else not sure what is but taste good in a coconut milk broth served in a \" flaming soup xxunk \" . \n",
       " \n",
       "  xxmaj dinner / xxmaj lunch ; xxmaj pad xxmaj thai , xxmaj kao xxmaj pad xxmaj kari , xxmaj panang xxmaj curry are all good and you would not be disappointed but i recommend either xxmaj pad xxmaj xxunk xxmaj pa xxmaj curry or xxmaj xxunk xxmaj xxunk xxmaj prik xxmaj thai ~ shrimp dish with garlic , snow peas , onions and broccoli . xxmaj they also have a few nontraditional xxmaj thai dishes like xxmaj orange chicken and xxmaj beef with xxmaj broccoli in case your with someone that is not a fan of xxmaj thai cuisine . \n",
       " \n",
       "  xxmaj heat levels are somewhat conservative so you may need to order a little hotter than at other locations . xxmaj service is friendly and quick . xxmaj their prices are very reasonable and their portions are on the larger size , so you can share with someone if you choose to .,xxbos xxmaj we had a lot of mixed feelings about this place . xxmaj the price / quality of their signature steak was great ... we just left feeling very underwhelmed by the quality of the service . \n",
       " \n",
       "  xxmaj we originally booked a reservation here because it was around the corner from the xxmaj zumanity show that we had tickets for . xxmaj the hostess we originally talked to was very polite and informative letting us know that a 9:30 pm booking was probably the best time since our show was for 7:30 . xxmaj at this point , we had high hopes for this place . \n",
       " \n",
       "  xxmaj the day of our booking we called to confirm our reservation and the hostess hung up on my bf mid sentence saying , \" xxmaj no we do n't have a booking under that name . \" xxmaj confused , i called back , and they eventually found our name . i wanted to make sure i received the check since it was my bf 's b - day weekend . xxmaj she said \" xxmaj ok \" then hung up without asking me which of the 4 people under our reservation that i was . \n",
       " \n",
       "  xxmaj our server was ok ... but obviously did n't get the message about the check . ( xxmaj surprise xxmaj surprise ) xxmaj when we asked for our check she threw it down next to my bf . xxmaj of course if he sees the check he 's going to try to pay for it ! ! ! xxmaj it was his birthday , this is what i was trying to avoid !,xxbos xxmaj we came for the oyster bar and the long line was a drag and the strong smell of cigarettes was making me nauseous so we decided to go into the neighboring restaurant \" xxmaj the xxmaj broiler \" . i assumed the casino might get its sea food shipment from the same place since both places are feet apart . xxmaj boy was i wrong . \n",
       " \n",
       "  xxmaj two people in my party got sick from the oysters . xxmaj the xxmaj clam xxmaj chowder was so gritty it was inedible , my hamburger was dry and smelled old . xxmaj to top it off a bill for two people is about $ 70 you can go to a really nice restaurant for $ 15 - 20 a plate in xxmaj vegas . \n",
       " \n",
       "  xxup avoid xxup this xxup place . xxup it xxup is a xxup waste xxup of xxup money xxup and xxup you xxup might xxup get xxup sick .,xxbos i 've been here a few times . xxmaj once with my family , once with a friend , once alone and once with my sister . xxmaj every time i feel like i spent a bit too much . xxmaj also , i do n't think i 've ever left there feeling happy either . xxmaj it 's bright and noisy . xxmaj but then again , it is more of a family place . \n",
       " \n",
       "  xxmaj they do have their non - negotiable menu . xxmaj it 's simple , it 's pretty and everything sounds good . xxmaj they have their set up assembly line style . xxmaj ordering is easy . xxmaj if you have any troubles , the employees in line will throw out a suggestion or two . i 've tried the xxmaj crab xxmaj avocado xxmaj melt , the xxmaj turkey xxmaj bacon xxmaj avocado ( i think you can tell that i like avocado ) and the xxmaj asian xxup bbq xxmaj pork . xxmaj the xxmaj crab and the xxmaj turkey were pretty good ( they 're paninis ) but the xxmaj asian xxup bbq xxmaj pork is sticky and kind of a pain to eat . xxmaj it is good , but i 'm better off buying a xxmaj bahn xxmaj mi . xxmaj bahn xxmaj mis are usually cheaper too . i have n't tried their salads . xxmaj they did n't seem interesting enough for me . xxmaj their soups are never hot , they 're always this awkward warm temperature . i 'm not sure if they could microwave them , but if i 'm paying $ 7.99 for soup and a sandwich , i 'd expect the food to be adequate . i 've tried the xxmaj lobster xxmaj bisque which is n't bad . i 've also had their xxmaj swiss xxmaj onion xxmaj soup that 's a temporary item . xxmaj it was good . xxmaj another thing is that their soup station was messy . i saw the assembly food line workers chatting amongst themselves , so i 'm pretty sure they had time to at least wipe it down . \n",
       " \n",
       "  xxmaj with the $ 7.99 combo , it comes with a slice of cold bread loaf and a chocolate dipped strawberry . xxmaj sexy , huh ? \n",
       "  xxmaj yeah , i guess it could be sexy ... xxmaj unless you think fruit bugs and leaves are sexy . ( xxmaj not judging if you are ! ) \n",
       "  xxmaj the first issue i had with the strawberries is that there were leaves xxup melted xxup in xxup with xxup the xxup chocolate . xxmaj honestly , how could you miss that ? xxmaj how can you expect your customers to xxup not notice it ? xxmaj luckily that time , i brought it up and they switched it out . xxmaj easy . xxmaj done . i did n't even have to ask them to switch it out . \n",
       "  xxmaj tonight was another story . xxmaj after my sister ate her strawberries , she started freaking out because a bug that crawled out of the bag . xxmaj it was a tiny bug . xxmaj like the kinds you find with the berries you did n't wash yet . xxmaj first , i brought the bag to the cashier . i asked if they wash the berries or if they even inspect them or whatever . xxmaj she 's like , \" xxmaj yeah , we wash them . xxmaj sorry about that . \" in the most \" omg , it 's late and i just want to get out of here . xxmaj it 's not my fault you have issues . \" attitude ever . xxmaj did n't offer if i want to talk to the manager or anything . xxmaj that was a problem for me . i 'm like , \" okay , thanks i guess . \" i waited for a bit and waited until a busser came by . i told her what happened and she brought out xxmaj joe , the manager . xxmaj joe explained to me that it 's corporate policy that the berries come pre - washed . xxmaj he said the chocolate would n't stick to it otherwise . xxmaj he then said they would keep an extra eye out when they inspect it in the morning . xxmaj he offered another dessert or another strawberry , which was nice . xxmaj we did n't take it , we were a bit grossed out by the bug . \n",
       " \n",
       "  xxmaj yeah , i can say ( with a lot of confidence ) that we wo n't be returning there . xxmaj ever . xxmaj not even if you paid for my meal . xxmaj if i wanted soup or anything like what they have , xxmaj panera xxmaj bread is down the street and xxmaj sweet xxmaj tomatoes is n't far from there either . xxmaj if you do go , just watch out for bugs !,xxbos i usually go to xxmaj francisco 's during my late night food xxunk . i have to say i really love their steak sopes ! xxmaj the sopes come topped with tomato , lettuce , sour cream , and cheese . xxmaj they are like little boats of fried goodness topped with juicy , tender meat and toppings . xxmaj make sure to ask for their spicy homemade salsa that they have in squirt bottles . xxmaj it has a real nice kick to it . xxmaj everything else on the menu is pretty decent . xxmaj my favorites are mostly the ala carte items : tostadas , tacos , and sopes . i do n't really care for the rice and beans that most of the entrees come with . xxmaj if you do stop in for a weekend late night snack , then be ready to expect a busy restaurant !\n",
       "y: CategoryList\n",
       "2,1,1,1,2\n",
       "Path: yelp_review_polarity_csv;\n",
       "\n",
       "Valid: LabelList (7600 items)\n",
       "x: TextList\n",
       "xxbos xxmaj whoa . xxmaj time has passed and this place has definitely not gotten any better . xxmaj honestly , it has definitely gotten more ghetto . i had an event that required me to stay at this hotel . xxmaj so to put it bluntly , it was not my first choice to stay here . \n",
       " \n",
       "  xxmaj so let 's start out with the good things ... \n",
       " \n",
       "  xxmaj the price would have to be the best thing it has to offer . $ 30 / night . xxmaj secondly , the bed was pretty good we had one of the upgraded rooms in the xxmaj north xxmaj tower . xxmaj the gym was decent . xxmaj we got the resort package which was $ 40 a day . xxmaj it seemed like it was worth it if you like unlimited beer / wine / cookies . xxmaj it also included the gym / spa . xxmaj they had a coffee machine which was broken and only had drip . xxmaj so no cappucino / lattes . xxmaj if you have an event at the convention center , this hotel is extremely convenient . i suppose this hotel would be good for you if you are one of those people that are always late . xxmaj the monorail is next to the hotel . xxmaj and that 's about it for me with the good things ... \n",
       " \n",
       "  xxmaj now to my things that i did n't like . xxmaj when you have ghetto prices you get ghetto people . xxmaj go figure . xxmaj the pool was filled with kids . i am not a kid . \n",
       "  xxmaj you know , its the details that make or break these hotels . xxmaj the plasma xxup tv was nice . xxup but xxup no xxup hdtv xxrep 4 ? xxup fuck . xxup furthermore xxup these xxup assholes xxup block xxup the xxup input xxup in xxup the xxup tv ! ! xxmaj so , you ca n't connect your ipod / media player to watch your stuff . xxup fuck . i hated that the default setting on the xxup tv stretched the xxunk to 16:9 weirdly . xxmaj these assholes have the balls to charge $ 13 per day per laptop for xxmaj internet . xxup wtf ? xxmaj thank xxup god i have my wifi xxunk . \n",
       " \n",
       "  xxmaj the lighting in the room was dim because they are stingy with the lighting . xxmaj they have those compact florescent light bulbs . xxmaj they are sooo ghetto that the light bulbs are n't even covered to look normal bulbs . xxmaj the a / c in the room was obscenely loud . i called them to fix it and the guy shows up an hour later . i forgot that i called him ! i hated the shower because i was taller than the shower head and i am xxunk \" . i further xxunk the shower because it was dark in the shower because these tight asses did n't put a light in the shower area . \n",
       " \n",
       "  xxmaj they give you a bunch of coupons , but with restrictions . i got excited when i first got a drink coupon but it had restrictions : no xxmaj grey goose , no name brand drinks . xxmaj jeez . xxmaj it was also good for beer / wine . xxmaj this place is in need of some major makeover . xxmaj the xxmaj benihana looks like when they first built the hotel 30 + years ago . xxmaj seriously though , if you have to go to xxmaj las xxmaj vegas on the cheap , you should wait longer save some more money get yourself a nicer hotel elsewhere .,xxbos xxmaj this is my second visit and it pretty much put a nail in the coffin . xxmaj the first time we came in for a late breakfast and the food was mediocre but we chalked it up to being on the tail end of breakfast service . xxmaj however , the second chance did not prove redeeming . i ordered the xxmaj cali benedict and the poached eggs were beyond runny and the dish was bland . xxmaj the potatoes are greasy and hard . xxmaj hubby 's omelet was greasy and runny , as well . xxmaj have not had lunch or dinner but would be reluctant to come back based on both poor breakfasts . xxmaj there 's other amazing places for breakfast in the area .,xxbos xxmaj first off , older casino on xxmaj fremont xxmaj street , but nice environment and incredible view of xxmaj vegas from the top of the building ( 24th floor , i believe ) . 16 oz prime rib was larger than that , incredibly done , xxup loved it !,xxbos i did n't find it that bad , but it certainly was n't good . xxmaj it 's a shame this place does n't live up , because it 's a neat - looking little diner in a great location . xxmaj service was typical xxmaj montreal aloof , food was not worth the time . xxmaj do yourself a favor and go to xxmaj cosmos down the street , or anywhere else at all really .,xxbos xxmaj the guacamole is definitely packaged - tastes exactly like xxmaj wholly xxmaj guacamole brand ... xxmaj not impressed . xxmaj service was n't much better . xxmaj food ? xxmaj very below average ... xxmaj after many years of using yelp , this is actually the first yelp review i have ever written . xxmaj that 's how strongly i disagree with the current rating that this place has . ( xxmaj and compared to what my friend and boyfriend had to say about the entire experience , i 'm being pretty nice . )\n",
       "y: CategoryList\n",
       "1,1,2,1,1\n",
       "Path: yelp_review_polarity_csv;\n",
       "\n",
       "Test: None, model=SequentialRNN(\n",
       "  (0): MultiBatchEncoder(\n",
       "    (module): AWD_LSTM(\n",
       "      (encoder): Embedding(30444, 400, padding_idx=1)\n",
       "      (encoder_dp): EmbeddingDropout(\n",
       "        (emb): Embedding(30444, 400, padding_idx=1)\n",
       "      )\n",
       "      (rnns): ModuleList(\n",
       "        (0): WeightDropout(\n",
       "          (module): LSTM(400, 1150, batch_first=True)\n",
       "        )\n",
       "        (1): WeightDropout(\n",
       "          (module): LSTM(1150, 1150, batch_first=True)\n",
       "        )\n",
       "        (2): WeightDropout(\n",
       "          (module): LSTM(1150, 400, batch_first=True)\n",
       "        )\n",
       "      )\n",
       "      (input_dp): RNNDropout()\n",
       "      (hidden_dps): ModuleList(\n",
       "        (0): RNNDropout()\n",
       "        (1): RNNDropout()\n",
       "        (2): RNNDropout()\n",
       "      )\n",
       "    )\n",
       "  )\n",
       "  (1): PoolingLinearClassifier(\n",
       "    (layers): Sequential(\n",
       "      (0): BatchNorm1d(1200, eps=1e-05, momentum=0.1, affine=True, track_running_stats=True)\n",
       "      (1): Dropout(p=0.2)\n",
       "      (2): Linear(in_features=1200, out_features=50, bias=True)\n",
       "      (3): ReLU(inplace)\n",
       "      (4): BatchNorm1d(50, eps=1e-05, momentum=0.1, affine=True, track_running_stats=True)\n",
       "      (5): Dropout(p=0.1)\n",
       "      (6): Linear(in_features=50, out_features=2, bias=True)\n",
       "    )\n",
       "  )\n",
       "), opt_func=functools.partial(<class 'torch.optim.adam.Adam'>, betas=(0.9, 0.99)), loss_func=FlattenedLoss of CrossEntropyLoss(), metrics=[<function accuracy at 0x7f63c01ec0d0>], true_wd=True, bn_wd=True, wd=0.01, train_bn=True, path=PosixPath('yelp_review_polarity_csv'), model_dir='models', callback_fns=[functools.partial(<class 'fastai.basic_train.Recorder'>, add_time=True)], callbacks=[...], layer_groups=[Sequential(\n",
       "  (0): Embedding(30444, 400, padding_idx=1)\n",
       "  (1): EmbeddingDropout(\n",
       "    (emb): Embedding(30444, 400, padding_idx=1)\n",
       "  )\n",
       "), Sequential(\n",
       "  (0): WeightDropout(\n",
       "    (module): LSTM(400, 1150, batch_first=True)\n",
       "  )\n",
       "  (1): RNNDropout()\n",
       "), Sequential(\n",
       "  (0): WeightDropout(\n",
       "    (module): LSTM(1150, 1150, batch_first=True)\n",
       "  )\n",
       "  (1): RNNDropout()\n",
       "), Sequential(\n",
       "  (0): WeightDropout(\n",
       "    (module): LSTM(1150, 400, batch_first=True)\n",
       "  )\n",
       "  (1): RNNDropout()\n",
       "), Sequential(\n",
       "  (0): PoolingLinearClassifier(\n",
       "    (layers): Sequential(\n",
       "      (0): BatchNorm1d(1200, eps=1e-05, momentum=0.1, affine=True, track_running_stats=True)\n",
       "      (1): Dropout(p=0.2)\n",
       "      (2): Linear(in_features=1200, out_features=50, bias=True)\n",
       "      (3): ReLU(inplace)\n",
       "      (4): BatchNorm1d(50, eps=1e-05, momentum=0.1, affine=True, track_running_stats=True)\n",
       "      (5): Dropout(p=0.1)\n",
       "      (6): Linear(in_features=50, out_features=2, bias=True)\n",
       "    )\n",
       "  )\n",
       ")], add_time=True)\n",
       "alpha: 2.0\n",
       "beta: 1.0], layer_groups=[Sequential(\n",
       "  (0): Embedding(30444, 400, padding_idx=1)\n",
       "  (1): EmbeddingDropout(\n",
       "    (emb): Embedding(30444, 400, padding_idx=1)\n",
       "  )\n",
       "), Sequential(\n",
       "  (0): WeightDropout(\n",
       "    (module): LSTM(400, 1150, batch_first=True)\n",
       "  )\n",
       "  (1): RNNDropout()\n",
       "), Sequential(\n",
       "  (0): WeightDropout(\n",
       "    (module): LSTM(1150, 1150, batch_first=True)\n",
       "  )\n",
       "  (1): RNNDropout()\n",
       "), Sequential(\n",
       "  (0): WeightDropout(\n",
       "    (module): LSTM(1150, 400, batch_first=True)\n",
       "  )\n",
       "  (1): RNNDropout()\n",
       "), Sequential(\n",
       "  (0): PoolingLinearClassifier(\n",
       "    (layers): Sequential(\n",
       "      (0): BatchNorm1d(1200, eps=1e-05, momentum=0.1, affine=True, track_running_stats=True)\n",
       "      (1): Dropout(p=0.2)\n",
       "      (2): Linear(in_features=1200, out_features=50, bias=True)\n",
       "      (3): ReLU(inplace)\n",
       "      (4): BatchNorm1d(50, eps=1e-05, momentum=0.1, affine=True, track_running_stats=True)\n",
       "      (5): Dropout(p=0.1)\n",
       "      (6): Linear(in_features=50, out_features=2, bias=True)\n",
       "    )\n",
       "  )\n",
       ")], add_time=True)"
      ]
     },
     "execution_count": 31,
     "metadata": {},
     "output_type": "execute_result"
    }
   ],
   "source": [
    "learn.load('second')"
   ]
  },
  {
   "cell_type": "code",
   "execution_count": 51,
   "metadata": {},
   "outputs": [],
   "source": [
    "s = '''\n",
    "The Big Boy burger remains a favorite, but they have lost me on there breakfast.  \n",
    "This is especially true for this store.  Ugh.\n",
    "'''"
   ]
  },
  {
   "cell_type": "code",
   "execution_count": 52,
   "metadata": {},
   "outputs": [],
   "source": [
    "prediction = learn.predict(s)"
   ]
  },
  {
   "cell_type": "code",
   "execution_count": 53,
   "metadata": {},
   "outputs": [
    {
     "data": {
      "text/plain": [
       "(<fastai.core.Category at 0x7f638e93d208>, tensor(0), tensor([0.6278, 0.3722]))"
      ]
     },
     "execution_count": 53,
     "metadata": {},
     "output_type": "execute_result"
    }
   ],
   "source": [
    "prediction"
   ]
  },
  {
   "cell_type": "code",
   "execution_count": 35,
   "metadata": {},
   "outputs": [
    {
     "data": {
      "text/plain": [
       "[1, 2]"
      ]
     },
     "execution_count": 35,
     "metadata": {},
     "output_type": "execute_result"
    }
   ],
   "source": [
    "learn.data.classes"
   ]
  },
  {
   "cell_type": "code",
   "execution_count": null,
   "metadata": {},
   "outputs": [],
   "source": []
  },
  {
   "cell_type": "code",
   "execution_count": null,
   "metadata": {},
   "outputs": [],
   "source": []
  },
  {
   "cell_type": "code",
   "execution_count": null,
   "metadata": {},
   "outputs": [],
   "source": []
  },
  {
   "cell_type": "code",
   "execution_count": null,
   "metadata": {},
   "outputs": [],
   "source": []
  }
 ],
 "metadata": {
  "kernelspec": {
   "display_name": "Python 3",
   "language": "python",
   "name": "python3"
  },
  "language_info": {
   "codemirror_mode": {
    "name": "ipython",
    "version": 3
   },
   "file_extension": ".py",
   "mimetype": "text/x-python",
   "name": "python",
   "nbconvert_exporter": "python",
   "pygments_lexer": "ipython3",
   "version": "3.7.1"
  }
 },
 "nbformat": 4,
 "nbformat_minor": 2
}
